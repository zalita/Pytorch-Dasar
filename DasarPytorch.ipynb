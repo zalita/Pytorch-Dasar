{
 "cells": [
  {
   "cell_type": "markdown",
   "id": "db3e4876",
   "metadata": {},
   "source": [
    "## Dasar-dasar Pemrograman Pytorch"
   ]
  },
  {
   "cell_type": "markdown",
   "id": "aaf48c05",
   "metadata": {},
   "source": [
    "Pytorch merupakan salah satu library pembelajaran mesin dan deep learning populer yang dikembangkan oleh Facebook.\n",
    "Instalasi : www.pytorch.org\n"
   ]
  },
  {
   "cell_type": "code",
   "execution_count": 1,
   "id": "a4bbd1fa",
   "metadata": {},
   "outputs": [],
   "source": [
    "#import library pytorch\n",
    "import torch"
   ]
  },
  {
   "cell_type": "code",
   "execution_count": 5,
   "id": "2592d7da",
   "metadata": {},
   "outputs": [
    {
     "name": "stdout",
     "output_type": "stream",
     "text": [
      "tensor([1, 2, 3])\n"
     ]
    }
   ],
   "source": [
    "# membuat array dengan pytorch\n",
    "a = torch.tensor([1,2,3])\n",
    "print(a)"
   ]
  },
  {
   "cell_type": "code",
   "execution_count": 6,
   "id": "9a27e7c7",
   "metadata": {},
   "outputs": [
    {
     "name": "stdout",
     "output_type": "stream",
     "text": [
      "tensor([1., 2., 3.])\n"
     ]
    }
   ],
   "source": [
    "# membuat array berisi float number dengan pytorch, \n",
    "# cukup dengan menulis salah satu datanya dengan tipe float, maka otomatis semuanya akan berubah menjadi tipe data float\n",
    "b = torch.tensor([1,2.0,3]) #2.0 bertipe float\n",
    "print(b)"
   ]
  },
  {
   "cell_type": "code",
   "execution_count": 7,
   "id": "aded3ee3",
   "metadata": {},
   "outputs": [
    {
     "data": {
      "text/plain": [
       "array([1., 2., 3.], dtype=float32)"
      ]
     },
     "execution_count": 7,
     "metadata": {},
     "output_type": "execute_result"
    }
   ],
   "source": [
    "# mengubah tensor ke numpy dengan menggunakan .numpy()\n",
    "b.numpy()"
   ]
  },
  {
   "cell_type": "code",
   "execution_count": 9,
   "id": "8256547b",
   "metadata": {},
   "outputs": [
    {
     "data": {
      "text/plain": [
       "tensor([1., 2., 3.])"
      ]
     },
     "execution_count": 9,
     "metadata": {},
     "output_type": "execute_result"
    }
   ],
   "source": [
    "# mengubah numpy array ke tensor menggunakan torch.from_numpy()\n",
    "torch.from_numpy(b.numpy())"
   ]
  },
  {
   "cell_type": "code",
   "execution_count": 13,
   "id": "31638da1",
   "metadata": {},
   "outputs": [
    {
     "name": "stdout",
     "output_type": "stream",
     "text": [
      "tensor([1, 2, 3, 4, 5])\n",
      "tensor([  2.7183,   7.3891,  20.0855,  54.5981, 148.4132])\n"
     ]
    }
   ],
   "source": [
    "# membuat bilangan e^x\n",
    "c = torch.tensor([1,2,3,4,5])\n",
    "print(c)\n",
    "c_Exp = torch.exp(c)\n",
    "print(c_Exp)"
   ]
  },
  {
   "cell_type": "code",
   "execution_count": 12,
   "id": "27a33488",
   "metadata": {},
   "outputs": [
    {
     "name": "stdout",
     "output_type": "stream",
     "text": [
      "tensor([ 0.0000,  2.5000,  5.0000,  7.5000, 10.0000])\n"
     ]
    }
   ],
   "source": [
    "# membuat partisi dari bilangan antara 0 sampai 10, dengan 5 partisi.\n",
    "d = torch.linspace(0,10,5)\n",
    "print(d)"
   ]
  },
  {
   "cell_type": "code",
   "execution_count": 16,
   "id": "48c21792",
   "metadata": {},
   "outputs": [
    {
     "name": "stdout",
     "output_type": "stream",
     "text": [
      "tensor([0, 1, 2, 3, 4, 5, 6, 7, 8, 9])\n"
     ]
    }
   ],
   "source": [
    "# membuat list dengan range 0 sampai 10\n",
    "e = torch.arange(0,10)\n",
    "print(e)"
   ]
  },
  {
   "cell_type": "code",
   "execution_count": 24,
   "id": "d51da424",
   "metadata": {},
   "outputs": [
    {
     "name": "stdout",
     "output_type": "stream",
     "text": [
      "tensor([[0, 1, 2, 3, 4],\n",
      "        [5, 6, 7, 8, 9]])\n",
      "tensor([[0, 1],\n",
      "        [2, 3],\n",
      "        [4, 5],\n",
      "        [6, 7],\n",
      "        [8, 9]])\n"
     ]
    }
   ],
   "source": [
    "# reshape pada pytorch dengan menggunakan .view()\n",
    "e_2d = e.view(2,5) # mengubah menjadi 2 baris 5 kolom\n",
    "print(e_2d)\n",
    "f = e.view(-1,2) # mengubah ke 2 kolom dengan jumlah baris terhitung otomatis\n",
    "print(f)"
   ]
  },
  {
   "cell_type": "code",
   "execution_count": 23,
   "id": "f588a5ea",
   "metadata": {},
   "outputs": [
    {
     "name": "stdout",
     "output_type": "stream",
     "text": [
      "tensor([[ 1,  2,  3,  4,  5],\n",
      "        [ 6,  7,  8,  9, 10]])\n",
      "jumlah dimensi =  2\n"
     ]
    }
   ],
   "source": [
    "# membuat array 2D\n",
    "arr_2D = torch.tensor([[1,2,3,4,5],[6,7,8,9,10]])\n",
    "print(arr_2D)\n",
    "print(\"jumlah dimensi = \", arr_2D.dim())"
   ]
  },
  {
   "cell_type": "code",
   "execution_count": null,
   "id": "2e516f82",
   "metadata": {},
   "outputs": [],
   "source": []
  }
 ],
 "metadata": {
  "kernelspec": {
   "display_name": "Python 3 (ipykernel)",
   "language": "python",
   "name": "python3"
  },
  "language_info": {
   "codemirror_mode": {
    "name": "ipython",
    "version": 3
   },
   "file_extension": ".py",
   "mimetype": "text/x-python",
   "name": "python",
   "nbconvert_exporter": "python",
   "pygments_lexer": "ipython3",
   "version": "3.8.12"
  }
 },
 "nbformat": 4,
 "nbformat_minor": 5
}
